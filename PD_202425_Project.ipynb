{
  "cells": [
    {
      "cell_type": "markdown",
      "metadata": {
        "id": "87GhgPHVr5A4"
      },
      "source": [
        "# Data Mining / Prospecção de Dados\n",
        "\n",
        "## Sara C. Madeira, 2024/2025\n",
        "\n",
        "# Project 1 - Pattern Mining"
      ]
    },
    {
      "cell_type": "markdown",
      "metadata": {
        "jp-MarkdownHeadingCollapsed": true,
        "id": "_Z5SQGhgr5A5"
      },
      "source": [
        "## Logistics\n",
        "**_Read Carefully_**\n",
        "\n",
        "**Students should work in teams of 3 people**.\n",
        "\n",
        "Groups with less than 3 people might be allowed (with valid justification), but will not have better grades for this reason.\n",
        "\n",
        "The quality of the project will dictate its grade, not the number of people working.\n",
        "\n",
        "**The project's solution should be uploaded in Moodle before the end of `May, 4th (23:59)`.**\n",
        "\n",
        "Students should **upload a `.zip` file** containing a folder with all the files necessary for project evaluation.\n",
        "Groups should be registered in [Moodle](https://moodle.ciencias.ulisboa.pt/mod/groupselect/view.php?id=139096) and the `zip` file should be identified as `PDnn.zip` where `nn` is the number of your group.\n",
        "\n",
        "**It is mandatory to produce a Jupyter notebook containing code and text/images/tables/etc describing the solution and the results. Projects not delivered in this format will not be graded. You can use `PD_202425_P1.ipynb` as template. In your `.zip` folder you should also include an HTML version of your notebook with all the outputs.**\n",
        "\n",
        "**Decisions should be justified and results should be critically discussed.**\n",
        "\n",
        "Remember that **your notebook should be as clear and organized as possible**, that is, **only the relevant code and experiments should be presented, not everything you tried and did not work, or is not relevant** (that can be discussed in the text, if relevant)! Tables and figures can be used together with text to summarize results and conclusions, improving understanding, readability and concision. **More does not mean better! The target is quality not quantity!**\n",
        "\n",
        "_**Project solutions containing only code and outputs without discussions will achieve a maximum grade of 10 out of 20.**_"
      ]
    },
    {
      "cell_type": "markdown",
      "metadata": {
        "id": "e0qPOUwbr5A5"
      },
      "source": [
        "## Dataset and Tools\n",
        "\n",
        "The dataset to be analysed is **`Foodmart_2025_DM.csv`**, which is a modified and integrated version of the **Foodmart database**, used in several [Kaggle](https://www.kaggle.com) Pattern Mining competitions, with the goal of finding **actionable patterns** by analysing data from the `FOODmart Ltd` company, a leading supermarket chain.\n",
        "\n",
        "`FOODmart Ltd` has different types of stores: Deluxe Supermarkets, Gourmet Supermarkets, Mid-Size Grocerys, Small Grocerys and\n",
        "Supermarkets. Y\n",
        "\n",
        "Your **goals** are to find:\n",
        "1. **global patterns** (common to all stores) and\n",
        "2. **local/specific patterns** (related to the type of store).\n",
        "\n",
        "**`Foodmart_2025_DM.csv`** stores **69549 transactions** from **24 stores**, where **103 different products** can be bought.\n",
        "\n",
        "Each transaction (row) has a `STORE_ID` (integer from 1 to 24), and a list of produts (items), together with the quantities bought.\n",
        "\n",
        "In the transation highlighted below, a given customer bought 1 unit of soup, 2 of cheese and 1 of wine at store 2.\n",
        "\n",
        "<img src=\"Foodmart_2025_DM_Example.png\" alt=\"Foodmart_2025_DM_Example\" style=\"width: 1000px;\"/>\n",
        "\n",
        "In this context, the project has **2 main tasks**:\n",
        "1. Mining Frequent Itemsets and Association Rules: Ignoring Product Quantities and Stores **(global patterns)**\n",
        "2. Mining Frequent Itemsets and Association Rules: Looking for Differences between Stores **(local/specific patterns)**"
      ]
    },
    {
      "cell_type": "markdown",
      "metadata": {
        "id": "_Ca5vDAQr5A5"
      },
      "source": [
        "**While doing PATTERN and ASSOCIATION MINING keep in mind the following basic/key questions and BE CREATIVE!**\n",
        "\n",
        "1. What are the most popular products?\n",
        "2. Which products are bought together?\n",
        "3. What are the frequent patterns?\n",
        "4. Can we find associations highlighting that when people buy a product/set of products also buy other product(s)?\n",
        "5. Are these associations strong? Can we trust them? Are they misleading?\n",
        "6. Can we analyse these patterns and evaluate these associations to find, not only frequent and strong associations, but also interest patterns and associations?\n",
        "\n",
        "**In this project you should use [Python 3](https://www.python.org), [Jupyter Notebook](http://jupyter.org) and [`MLxtend`](http://rasbt.github.io/mlxtend/).**\n",
        "\n",
        "When using `MLxtend`, frequent patterns can either be discovered using `Apriori` and `FP-Growth`. **Choose the pattern mining algorithm to be used.**"
      ]
    },
    {
      "cell_type": "markdown",
      "metadata": {
        "id": "_WpiRvD6r5A6"
      },
      "source": [
        "## Team Identification\n",
        "\n",
        "**GROUP NN**\n",
        "\n",
        "Students:\n",
        "\n",
        "* Student 1 - n_student1\n",
        "* Student 2 - n_student2\n",
        "* Student 3 - n_student3"
      ]
    },
    {
      "cell_type": "markdown",
      "metadata": {
        "id": "gDbsQgEYr5A7"
      },
      "source": [
        "## 1. Mining Frequent Itemsets and Association Rules: Ignoring Product Quantities and Stores\n",
        "\n",
        "In this first task you should load and preprocessed the dataset **`Foodmart_2025_DM.csv`** in order to compute frequent itemsets and generate association rules considering all the transactions, regardeless of the store, and ignoring product quantities."
      ]
    },
    {
      "cell_type": "markdown",
      "metadata": {
        "id": "X059Dfwbr5A7"
      },
      "source": [
        "### 1.1. Load and Preprocess Dataset\n",
        "\n",
        " **Product quantities and stores should not be considered.**"
      ]
    },
    {
      "cell_type": "code",
      "execution_count": 1,
      "metadata": {
        "colab": {
          "base_uri": "https://localhost:8080/",
          "height": 273
        },
        "id": "fBtKgOiIr5A7",
        "outputId": "24662751-cb03-41dd-db16-e4c56ec01122"
      },
      "outputs": [
        {
          "output_type": "execute_result",
          "data": {
            "text/plain": [
              "   Cheese  Deli Salads  Pancakes  Peanut Butter  Home Magazines  French Fries  \\\n",
              "0       0            0         0              0               0             0   \n",
              "1       0            0         0              0               0             0   \n",
              "2       1            0         0              0               0             0   \n",
              "3       0            0         0              0               0             0   \n",
              "4       0            0         0              0               0             0   \n",
              "\n",
              "   Sardines  Sunglasses  Bologna  Anchovies  ...  Shrimp  Sugar  Gum  Dips  \\\n",
              "0         0           0        0          0  ...       0      0    0     0   \n",
              "1         0           0        0          0  ...       0      0    0     0   \n",
              "2         0           0        0          0  ...       0      0    0     0   \n",
              "3         0           0        0          0  ...       0      0    0     0   \n",
              "4         0           0        0          0  ...       0      0    0     0   \n",
              "\n",
              "   Fresh Chicken  Sauces  Muffins  Milk  Popsicles  Clams  \n",
              "0              0       0        0     0          0      0  \n",
              "1              0       0        0     1          0      0  \n",
              "2              0       0        0     0          0      0  \n",
              "3              0       0        0     0          0      0  \n",
              "4              0       0        0     0          0      0  \n",
              "\n",
              "[5 rows x 103 columns]"
            ],
            "text/html": [
              "\n",
              "  <div id=\"df-a4fdb138-c63e-4921-9bc5-83d20fd77844\" class=\"colab-df-container\">\n",
              "    <div>\n",
              "<style scoped>\n",
              "    .dataframe tbody tr th:only-of-type {\n",
              "        vertical-align: middle;\n",
              "    }\n",
              "\n",
              "    .dataframe tbody tr th {\n",
              "        vertical-align: top;\n",
              "    }\n",
              "\n",
              "    .dataframe thead th {\n",
              "        text-align: right;\n",
              "    }\n",
              "</style>\n",
              "<table border=\"1\" class=\"dataframe\">\n",
              "  <thead>\n",
              "    <tr style=\"text-align: right;\">\n",
              "      <th></th>\n",
              "      <th>Cheese</th>\n",
              "      <th>Deli Salads</th>\n",
              "      <th>Pancakes</th>\n",
              "      <th>Peanut Butter</th>\n",
              "      <th>Home Magazines</th>\n",
              "      <th>French Fries</th>\n",
              "      <th>Sardines</th>\n",
              "      <th>Sunglasses</th>\n",
              "      <th>Bologna</th>\n",
              "      <th>Anchovies</th>\n",
              "      <th>...</th>\n",
              "      <th>Shrimp</th>\n",
              "      <th>Sugar</th>\n",
              "      <th>Gum</th>\n",
              "      <th>Dips</th>\n",
              "      <th>Fresh Chicken</th>\n",
              "      <th>Sauces</th>\n",
              "      <th>Muffins</th>\n",
              "      <th>Milk</th>\n",
              "      <th>Popsicles</th>\n",
              "      <th>Clams</th>\n",
              "    </tr>\n",
              "  </thead>\n",
              "  <tbody>\n",
              "    <tr>\n",
              "      <th>0</th>\n",
              "      <td>0</td>\n",
              "      <td>0</td>\n",
              "      <td>0</td>\n",
              "      <td>0</td>\n",
              "      <td>0</td>\n",
              "      <td>0</td>\n",
              "      <td>0</td>\n",
              "      <td>0</td>\n",
              "      <td>0</td>\n",
              "      <td>0</td>\n",
              "      <td>...</td>\n",
              "      <td>0</td>\n",
              "      <td>0</td>\n",
              "      <td>0</td>\n",
              "      <td>0</td>\n",
              "      <td>0</td>\n",
              "      <td>0</td>\n",
              "      <td>0</td>\n",
              "      <td>0</td>\n",
              "      <td>0</td>\n",
              "      <td>0</td>\n",
              "    </tr>\n",
              "    <tr>\n",
              "      <th>1</th>\n",
              "      <td>0</td>\n",
              "      <td>0</td>\n",
              "      <td>0</td>\n",
              "      <td>0</td>\n",
              "      <td>0</td>\n",
              "      <td>0</td>\n",
              "      <td>0</td>\n",
              "      <td>0</td>\n",
              "      <td>0</td>\n",
              "      <td>0</td>\n",
              "      <td>...</td>\n",
              "      <td>0</td>\n",
              "      <td>0</td>\n",
              "      <td>0</td>\n",
              "      <td>0</td>\n",
              "      <td>0</td>\n",
              "      <td>0</td>\n",
              "      <td>0</td>\n",
              "      <td>1</td>\n",
              "      <td>0</td>\n",
              "      <td>0</td>\n",
              "    </tr>\n",
              "    <tr>\n",
              "      <th>2</th>\n",
              "      <td>1</td>\n",
              "      <td>0</td>\n",
              "      <td>0</td>\n",
              "      <td>0</td>\n",
              "      <td>0</td>\n",
              "      <td>0</td>\n",
              "      <td>0</td>\n",
              "      <td>0</td>\n",
              "      <td>0</td>\n",
              "      <td>0</td>\n",
              "      <td>...</td>\n",
              "      <td>0</td>\n",
              "      <td>0</td>\n",
              "      <td>0</td>\n",
              "      <td>0</td>\n",
              "      <td>0</td>\n",
              "      <td>0</td>\n",
              "      <td>0</td>\n",
              "      <td>0</td>\n",
              "      <td>0</td>\n",
              "      <td>0</td>\n",
              "    </tr>\n",
              "    <tr>\n",
              "      <th>3</th>\n",
              "      <td>0</td>\n",
              "      <td>0</td>\n",
              "      <td>0</td>\n",
              "      <td>0</td>\n",
              "      <td>0</td>\n",
              "      <td>0</td>\n",
              "      <td>0</td>\n",
              "      <td>0</td>\n",
              "      <td>0</td>\n",
              "      <td>0</td>\n",
              "      <td>...</td>\n",
              "      <td>0</td>\n",
              "      <td>0</td>\n",
              "      <td>0</td>\n",
              "      <td>0</td>\n",
              "      <td>0</td>\n",
              "      <td>0</td>\n",
              "      <td>0</td>\n",
              "      <td>0</td>\n",
              "      <td>0</td>\n",
              "      <td>0</td>\n",
              "    </tr>\n",
              "    <tr>\n",
              "      <th>4</th>\n",
              "      <td>0</td>\n",
              "      <td>0</td>\n",
              "      <td>0</td>\n",
              "      <td>0</td>\n",
              "      <td>0</td>\n",
              "      <td>0</td>\n",
              "      <td>0</td>\n",
              "      <td>0</td>\n",
              "      <td>0</td>\n",
              "      <td>0</td>\n",
              "      <td>...</td>\n",
              "      <td>0</td>\n",
              "      <td>0</td>\n",
              "      <td>0</td>\n",
              "      <td>0</td>\n",
              "      <td>0</td>\n",
              "      <td>0</td>\n",
              "      <td>0</td>\n",
              "      <td>0</td>\n",
              "      <td>0</td>\n",
              "      <td>0</td>\n",
              "    </tr>\n",
              "  </tbody>\n",
              "</table>\n",
              "<p>5 rows × 103 columns</p>\n",
              "</div>\n",
              "    <div class=\"colab-df-buttons\">\n",
              "\n",
              "  <div class=\"colab-df-container\">\n",
              "    <button class=\"colab-df-convert\" onclick=\"convertToInteractive('df-a4fdb138-c63e-4921-9bc5-83d20fd77844')\"\n",
              "            title=\"Convert this dataframe to an interactive table.\"\n",
              "            style=\"display:none;\">\n",
              "\n",
              "  <svg xmlns=\"http://www.w3.org/2000/svg\" height=\"24px\" viewBox=\"0 -960 960 960\">\n",
              "    <path d=\"M120-120v-720h720v720H120Zm60-500h600v-160H180v160Zm220 220h160v-160H400v160Zm0 220h160v-160H400v160ZM180-400h160v-160H180v160Zm440 0h160v-160H620v160ZM180-180h160v-160H180v160Zm440 0h160v-160H620v160Z\"/>\n",
              "  </svg>\n",
              "    </button>\n",
              "\n",
              "  <style>\n",
              "    .colab-df-container {\n",
              "      display:flex;\n",
              "      gap: 12px;\n",
              "    }\n",
              "\n",
              "    .colab-df-convert {\n",
              "      background-color: #E8F0FE;\n",
              "      border: none;\n",
              "      border-radius: 50%;\n",
              "      cursor: pointer;\n",
              "      display: none;\n",
              "      fill: #1967D2;\n",
              "      height: 32px;\n",
              "      padding: 0 0 0 0;\n",
              "      width: 32px;\n",
              "    }\n",
              "\n",
              "    .colab-df-convert:hover {\n",
              "      background-color: #E2EBFA;\n",
              "      box-shadow: 0px 1px 2px rgba(60, 64, 67, 0.3), 0px 1px 3px 1px rgba(60, 64, 67, 0.15);\n",
              "      fill: #174EA6;\n",
              "    }\n",
              "\n",
              "    .colab-df-buttons div {\n",
              "      margin-bottom: 4px;\n",
              "    }\n",
              "\n",
              "    [theme=dark] .colab-df-convert {\n",
              "      background-color: #3B4455;\n",
              "      fill: #D2E3FC;\n",
              "    }\n",
              "\n",
              "    [theme=dark] .colab-df-convert:hover {\n",
              "      background-color: #434B5C;\n",
              "      box-shadow: 0px 1px 3px 1px rgba(0, 0, 0, 0.15);\n",
              "      filter: drop-shadow(0px 1px 2px rgba(0, 0, 0, 0.3));\n",
              "      fill: #FFFFFF;\n",
              "    }\n",
              "  </style>\n",
              "\n",
              "    <script>\n",
              "      const buttonEl =\n",
              "        document.querySelector('#df-a4fdb138-c63e-4921-9bc5-83d20fd77844 button.colab-df-convert');\n",
              "      buttonEl.style.display =\n",
              "        google.colab.kernel.accessAllowed ? 'block' : 'none';\n",
              "\n",
              "      async function convertToInteractive(key) {\n",
              "        const element = document.querySelector('#df-a4fdb138-c63e-4921-9bc5-83d20fd77844');\n",
              "        const dataTable =\n",
              "          await google.colab.kernel.invokeFunction('convertToInteractive',\n",
              "                                                    [key], {});\n",
              "        if (!dataTable) return;\n",
              "\n",
              "        const docLinkHtml = 'Like what you see? Visit the ' +\n",
              "          '<a target=\"_blank\" href=https://colab.research.google.com/notebooks/data_table.ipynb>data table notebook</a>'\n",
              "          + ' to learn more about interactive tables.';\n",
              "        element.innerHTML = '';\n",
              "        dataTable['output_type'] = 'display_data';\n",
              "        await google.colab.output.renderOutput(dataTable, element);\n",
              "        const docLink = document.createElement('div');\n",
              "        docLink.innerHTML = docLinkHtml;\n",
              "        element.appendChild(docLink);\n",
              "      }\n",
              "    </script>\n",
              "  </div>\n",
              "\n",
              "\n",
              "<div id=\"df-5246d7b6-9ea2-453f-957d-21640c8ea0fc\">\n",
              "  <button class=\"colab-df-quickchart\" onclick=\"quickchart('df-5246d7b6-9ea2-453f-957d-21640c8ea0fc')\"\n",
              "            title=\"Suggest charts\"\n",
              "            style=\"display:none;\">\n",
              "\n",
              "<svg xmlns=\"http://www.w3.org/2000/svg\" height=\"24px\"viewBox=\"0 0 24 24\"\n",
              "     width=\"24px\">\n",
              "    <g>\n",
              "        <path d=\"M19 3H5c-1.1 0-2 .9-2 2v14c0 1.1.9 2 2 2h14c1.1 0 2-.9 2-2V5c0-1.1-.9-2-2-2zM9 17H7v-7h2v7zm4 0h-2V7h2v10zm4 0h-2v-4h2v4z\"/>\n",
              "    </g>\n",
              "</svg>\n",
              "  </button>\n",
              "\n",
              "<style>\n",
              "  .colab-df-quickchart {\n",
              "      --bg-color: #E8F0FE;\n",
              "      --fill-color: #1967D2;\n",
              "      --hover-bg-color: #E2EBFA;\n",
              "      --hover-fill-color: #174EA6;\n",
              "      --disabled-fill-color: #AAA;\n",
              "      --disabled-bg-color: #DDD;\n",
              "  }\n",
              "\n",
              "  [theme=dark] .colab-df-quickchart {\n",
              "      --bg-color: #3B4455;\n",
              "      --fill-color: #D2E3FC;\n",
              "      --hover-bg-color: #434B5C;\n",
              "      --hover-fill-color: #FFFFFF;\n",
              "      --disabled-bg-color: #3B4455;\n",
              "      --disabled-fill-color: #666;\n",
              "  }\n",
              "\n",
              "  .colab-df-quickchart {\n",
              "    background-color: var(--bg-color);\n",
              "    border: none;\n",
              "    border-radius: 50%;\n",
              "    cursor: pointer;\n",
              "    display: none;\n",
              "    fill: var(--fill-color);\n",
              "    height: 32px;\n",
              "    padding: 0;\n",
              "    width: 32px;\n",
              "  }\n",
              "\n",
              "  .colab-df-quickchart:hover {\n",
              "    background-color: var(--hover-bg-color);\n",
              "    box-shadow: 0 1px 2px rgba(60, 64, 67, 0.3), 0 1px 3px 1px rgba(60, 64, 67, 0.15);\n",
              "    fill: var(--button-hover-fill-color);\n",
              "  }\n",
              "\n",
              "  .colab-df-quickchart-complete:disabled,\n",
              "  .colab-df-quickchart-complete:disabled:hover {\n",
              "    background-color: var(--disabled-bg-color);\n",
              "    fill: var(--disabled-fill-color);\n",
              "    box-shadow: none;\n",
              "  }\n",
              "\n",
              "  .colab-df-spinner {\n",
              "    border: 2px solid var(--fill-color);\n",
              "    border-color: transparent;\n",
              "    border-bottom-color: var(--fill-color);\n",
              "    animation:\n",
              "      spin 1s steps(1) infinite;\n",
              "  }\n",
              "\n",
              "  @keyframes spin {\n",
              "    0% {\n",
              "      border-color: transparent;\n",
              "      border-bottom-color: var(--fill-color);\n",
              "      border-left-color: var(--fill-color);\n",
              "    }\n",
              "    20% {\n",
              "      border-color: transparent;\n",
              "      border-left-color: var(--fill-color);\n",
              "      border-top-color: var(--fill-color);\n",
              "    }\n",
              "    30% {\n",
              "      border-color: transparent;\n",
              "      border-left-color: var(--fill-color);\n",
              "      border-top-color: var(--fill-color);\n",
              "      border-right-color: var(--fill-color);\n",
              "    }\n",
              "    40% {\n",
              "      border-color: transparent;\n",
              "      border-right-color: var(--fill-color);\n",
              "      border-top-color: var(--fill-color);\n",
              "    }\n",
              "    60% {\n",
              "      border-color: transparent;\n",
              "      border-right-color: var(--fill-color);\n",
              "    }\n",
              "    80% {\n",
              "      border-color: transparent;\n",
              "      border-right-color: var(--fill-color);\n",
              "      border-bottom-color: var(--fill-color);\n",
              "    }\n",
              "    90% {\n",
              "      border-color: transparent;\n",
              "      border-bottom-color: var(--fill-color);\n",
              "    }\n",
              "  }\n",
              "</style>\n",
              "\n",
              "  <script>\n",
              "    async function quickchart(key) {\n",
              "      const quickchartButtonEl =\n",
              "        document.querySelector('#' + key + ' button');\n",
              "      quickchartButtonEl.disabled = true;  // To prevent multiple clicks.\n",
              "      quickchartButtonEl.classList.add('colab-df-spinner');\n",
              "      try {\n",
              "        const charts = await google.colab.kernel.invokeFunction(\n",
              "            'suggestCharts', [key], {});\n",
              "      } catch (error) {\n",
              "        console.error('Error during call to suggestCharts:', error);\n",
              "      }\n",
              "      quickchartButtonEl.classList.remove('colab-df-spinner');\n",
              "      quickchartButtonEl.classList.add('colab-df-quickchart-complete');\n",
              "    }\n",
              "    (() => {\n",
              "      let quickchartButtonEl =\n",
              "        document.querySelector('#df-5246d7b6-9ea2-453f-957d-21640c8ea0fc button');\n",
              "      quickchartButtonEl.style.display =\n",
              "        google.colab.kernel.accessAllowed ? 'block' : 'none';\n",
              "    })();\n",
              "  </script>\n",
              "</div>\n",
              "\n",
              "    </div>\n",
              "  </div>\n"
            ],
            "application/vnd.google.colaboratory.intrinsic+json": {
              "type": "dataframe",
              "variable_name": "df"
            }
          },
          "metadata": {},
          "execution_count": 1
        }
      ],
      "source": [
        "import pandas as pd\n",
        "\n",
        "# Specify the file path\n",
        "file_path = 'Foodmart_2025_DM.csv'\n",
        "\n",
        "# Initialize an empty list to hold the transactions\n",
        "transactions = []\n",
        "\n",
        "# Open the file and read it line by line\n",
        "with open(file_path, 'r') as file:\n",
        "    for line in file:\n",
        "        # Strip any leading/trailing whitespace and ignore the store ID\n",
        "        line = line.strip().split(',')\n",
        "\n",
        "        # Initialize a set to store products in this transaction\n",
        "        transaction = set()\n",
        "\n",
        "        for item in line:\n",
        "            # Split by '=' to separate product names from quantities\n",
        "            product_quantity = item.split('=')\n",
        "\n",
        "            if len(product_quantity) == 2:\n",
        "                product = product_quantity[0]\n",
        "                transaction.add(product)  # Add product to transaction (ignoring quantity)\n",
        "\n",
        "        # Add the transaction to the list (if it's not empty)\n",
        "        if transaction:\n",
        "            transactions.append(transaction)\n",
        "\n",
        "# Convert list of transactions into a DataFrame with one-hot encoding\n",
        "# Create a set of all unique products\n",
        "all_products = set()\n",
        "for transaction in transactions:\n",
        "    all_products.update(transaction)\n",
        "\n",
        "# Convert the set of products to a list\n",
        "all_products_list = list(all_products)\n",
        "\n",
        "# Create an empty DataFrame with one-hot encoded products\n",
        "one_hot_df = pd.DataFrame(columns=all_products_list)\n",
        "\n",
        "# Convert transactions to one-hot encoded format\n",
        "one_hot_transactions = []\n",
        "for transaction in transactions:\n",
        "    one_hot_transactions.append([1 if product in transaction else 0 for product in all_products_list])\n",
        "\n",
        "# Create the final DataFrame\n",
        "df = pd.DataFrame(one_hot_transactions, columns=all_products_list)\n",
        "\n",
        "# Display the first few rows of the one-hot encoded DataFrame\n",
        "df.head()\n"
      ]
    },
    {
      "cell_type": "markdown",
      "metadata": {
        "id": "A5Bpa3KJr5A8"
      },
      "source": [
        "Write text in cells like this ...\n"
      ]
    },
    {
      "cell_type": "markdown",
      "metadata": {
        "id": "IgMDFg6Ir5A8"
      },
      "source": [
        "### 1.2. Compute Frequent Itemsets"
      ]
    },
    {
      "cell_type": "markdown",
      "metadata": {
        "id": "uS8dwqM5r5A9"
      },
      "source": [
        "* Compute frequent itemsets considering a minimum support S_min.\n",
        "* Present frequent itemsets organized by length (number of items).\n",
        "* List frequent 1-itemsets, 2-itemsets, 3-itemsets, etc with support of at least S < S_min.\n",
        "* Change the minimum support values and discuss the results."
      ]
    },
    {
      "cell_type": "code",
      "source": [
        "!pip install mlxtend --upgrade"
      ],
      "metadata": {
        "colab": {
          "base_uri": "https://localhost:8080/"
        },
        "id": "R6bCY2-dou_v",
        "outputId": "56aa150b-a382-4379-d809-ae05355a649c"
      },
      "execution_count": 3,
      "outputs": [
        {
          "output_type": "stream",
          "name": "stdout",
          "text": [
            "Requirement already satisfied: mlxtend in /usr/local/lib/python3.11/dist-packages (0.23.4)\n",
            "Requirement already satisfied: scipy>=1.2.1 in /usr/local/lib/python3.11/dist-packages (from mlxtend) (1.14.1)\n",
            "Requirement already satisfied: numpy>=1.16.2 in /usr/local/lib/python3.11/dist-packages (from mlxtend) (2.0.2)\n",
            "Requirement already satisfied: pandas>=0.24.2 in /usr/local/lib/python3.11/dist-packages (from mlxtend) (2.2.2)\n",
            "Requirement already satisfied: scikit-learn>=1.3.1 in /usr/local/lib/python3.11/dist-packages (from mlxtend) (1.6.1)\n",
            "Requirement already satisfied: matplotlib>=3.0.0 in /usr/local/lib/python3.11/dist-packages (from mlxtend) (3.10.0)\n",
            "Requirement already satisfied: joblib>=0.13.2 in /usr/local/lib/python3.11/dist-packages (from mlxtend) (1.4.2)\n",
            "Requirement already satisfied: contourpy>=1.0.1 in /usr/local/lib/python3.11/dist-packages (from matplotlib>=3.0.0->mlxtend) (1.3.2)\n",
            "Requirement already satisfied: cycler>=0.10 in /usr/local/lib/python3.11/dist-packages (from matplotlib>=3.0.0->mlxtend) (0.12.1)\n",
            "Requirement already satisfied: fonttools>=4.22.0 in /usr/local/lib/python3.11/dist-packages (from matplotlib>=3.0.0->mlxtend) (4.57.0)\n",
            "Requirement already satisfied: kiwisolver>=1.3.1 in /usr/local/lib/python3.11/dist-packages (from matplotlib>=3.0.0->mlxtend) (1.4.8)\n",
            "Requirement already satisfied: packaging>=20.0 in /usr/local/lib/python3.11/dist-packages (from matplotlib>=3.0.0->mlxtend) (24.2)\n",
            "Requirement already satisfied: pillow>=8 in /usr/local/lib/python3.11/dist-packages (from matplotlib>=3.0.0->mlxtend) (11.1.0)\n",
            "Requirement already satisfied: pyparsing>=2.3.1 in /usr/local/lib/python3.11/dist-packages (from matplotlib>=3.0.0->mlxtend) (3.2.3)\n",
            "Requirement already satisfied: python-dateutil>=2.7 in /usr/local/lib/python3.11/dist-packages (from matplotlib>=3.0.0->mlxtend) (2.8.2)\n",
            "Requirement already satisfied: pytz>=2020.1 in /usr/local/lib/python3.11/dist-packages (from pandas>=0.24.2->mlxtend) (2025.2)\n",
            "Requirement already satisfied: tzdata>=2022.7 in /usr/local/lib/python3.11/dist-packages (from pandas>=0.24.2->mlxtend) (2025.2)\n",
            "Requirement already satisfied: threadpoolctl>=3.1.0 in /usr/local/lib/python3.11/dist-packages (from scikit-learn>=1.3.1->mlxtend) (3.6.0)\n",
            "Requirement already satisfied: six>=1.5 in /usr/local/lib/python3.11/dist-packages (from python-dateutil>=2.7->matplotlib>=3.0.0->mlxtend) (1.17.0)\n"
          ]
        }
      ]
    },
    {
      "cell_type": "code",
      "execution_count": 5,
      "metadata": {
        "id": "-nZQuZkpr5A9",
        "colab": {
          "base_uri": "https://localhost:8080/"
        },
        "outputId": "1b185130-f28c-45e0-863d-050ed92c66e0"
      },
      "outputs": [
        {
          "output_type": "stream",
          "name": "stderr",
          "text": [
            "/usr/local/lib/python3.11/dist-packages/mlxtend/frequent_patterns/fpcommon.py:161: DeprecationWarning: DataFrames with non-bool types result in worse computationalperformance and their support might be discontinued in the future.Please use a DataFrame with bool type\n",
            "  warnings.warn(\n"
          ]
        },
        {
          "output_type": "stream",
          "name": "stdout",
          "text": [
            "\n",
            "1-itemsets with support >= 0.01:\n",
            "               itemsets   support\n",
            "0            (STORE_ID)  0.996966\n",
            "1                (Soup)  0.119427\n",
            "2               (Pasta)  0.049073\n",
            "3    (Fresh Vegetables)  0.284174\n",
            "4                (Milk)  0.066313\n",
            "..                  ...       ...\n",
            "98              (Clams)  0.013846\n",
            "99             (Shrimp)  0.013458\n",
            "100        (Fresh Fish)  0.012883\n",
            "101          (Sardines)  0.013343\n",
            "102         (Shellfish)  0.013688\n",
            "\n",
            "[103 rows x 2 columns]\n",
            "\n",
            "2-itemsets with support >= 0.01:\n",
            "                      itemsets   support\n",
            "103           (Soup, STORE_ID)  0.119067\n",
            "104   (Soup, Fresh Vegetables)  0.035443\n",
            "105        (Soup, Fresh Fruit)  0.020662\n",
            "108          (Pasta, STORE_ID)  0.048872\n",
            "109  (Pasta, Fresh Vegetables)  0.013286\n",
            "..                         ...       ...\n",
            "352          (STORE_ID, Clams)  0.013774\n",
            "353         (STORE_ID, Shrimp)  0.013429\n",
            "354     (Fresh Fish, STORE_ID)  0.012811\n",
            "355       (Sardines, STORE_ID)  0.013343\n",
            "356      (Shellfish, STORE_ID)  0.013659\n",
            "\n",
            "[178 rows x 2 columns]\n",
            "\n",
            "3-itemsets with support >= 0.01:\n",
            "                                itemsets   support\n",
            "106   (Soup, STORE_ID, Fresh Vegetables)  0.035328\n",
            "107        (Soup, Fresh Fruit, STORE_ID)  0.020590\n",
            "110  (Pasta, STORE_ID, Fresh Vegetables)  0.013185\n",
            "115   (Milk, STORE_ID, Fresh Vegetables)  0.017685\n",
            "116        (Milk, Fresh Fruit, STORE_ID)  0.012308\n",
            "..                                   ...       ...\n",
            "321   (Wine, STORE_ID, Fresh Vegetables)  0.020389\n",
            "322        (Fresh Fruit, Wine, STORE_ID)  0.014925\n",
            "323        (Dried Fruit, Wine, STORE_ID)  0.010079\n",
            "344  (Pizza, STORE_ID, Fresh Vegetables)  0.015284\n",
            "345       (Pizza, Fresh Fruit, STORE_ID)  0.010640\n",
            "\n",
            "[76 rows x 2 columns]\n"
          ]
        }
      ],
      "source": [
        "from mlxtend.frequent_patterns import fpgrowth  # Changed fp_growth to fpgrowth\n",
        "\n",
        "import pandas as pd\n",
        "\n",
        "# Define a function to compute and organize frequent itemsets\n",
        "def compute_frequent_itemsets(df, min_support):\n",
        "    # Apply FP-Growth to find frequent itemsets with given support threshold\n",
        "    frequent_itemsets = fpgrowth(df, min_support=min_support, use_colnames=True) # Changed fp_growth to fpgrowth\n",
        "\n",
        "    # Add a column for the length of each itemset\n",
        "    frequent_itemsets['itemset_length'] = frequent_itemsets['itemsets'].apply(lambda x: len(x))\n",
        "\n",
        "    # Organize frequent itemsets by length\n",
        "    itemsets_by_length = frequent_itemsets.groupby('itemset_length')\n",
        "\n",
        "    return itemsets_by_length\n",
        "\n",
        "# Experiment with different support thresholds\n",
        "min_support = 0.01  # You can change this value to explore the results\n",
        "\n",
        "# Compute frequent itemsets with the given minimum support\n",
        "itemsets_by_length = compute_frequent_itemsets(df, min_support)\n",
        "\n",
        "# Display frequent itemsets organized by length\n",
        "for length, itemsets in itemsets_by_length:\n",
        "    print(f\"\\n{length}-itemsets with support >= {min_support}:\")\n",
        "    print(itemsets[['itemsets', 'support']])"
      ]
    },
    {
      "cell_type": "markdown",
      "metadata": {
        "id": "3GnlJlmIr5A9"
      },
      "source": [
        "Write text in cells like this ...\n"
      ]
    },
    {
      "cell_type": "markdown",
      "metadata": {
        "id": "bad7KsLvr5A9"
      },
      "source": [
        "### 1.3. Generate Association Rules from Frequent Itemsets"
      ]
    },
    {
      "cell_type": "markdown",
      "metadata": {
        "collapsed": true,
        "jupyter": {
          "outputs_hidden": true
        },
        "id": "Xl31UiTJr5A9"
      },
      "source": [
        "Using a minimum support S_min fundamented by the previous results.\n",
        "* Generate association rules with a choosed value (C) for minimum confidence.\n",
        "* Generate association rules with a choosed value (L) for minimum lift.\n",
        "* Generate association rules with both confidence >= C and lift >= L.\n",
        "* Change C and L when it makes sense and discuss the results.\n",
        "* Use other metrics besides confidence and lift.\n",
        "* Evaluate how good the rules are given the metrics and how interesting they are from your point of view."
      ]
    },
    {
      "cell_type": "code",
      "execution_count": null,
      "metadata": {
        "id": "ISXaUck_r5A9"
      },
      "outputs": [],
      "source": [
        "# Write code in cells like this\n",
        "# ...."
      ]
    },
    {
      "cell_type": "markdown",
      "metadata": {
        "id": "Pma64mNBr5A-"
      },
      "source": [
        "Write text in cells like this ...\n"
      ]
    },
    {
      "cell_type": "markdown",
      "metadata": {
        "id": "RYclhMDnr5A-"
      },
      "source": [
        "### 1.4. Take a Look at Maximal Patterns: Compute Maximal Frequent Itemsets\n",
        "- discuss their utility compared to frequent patterns\n",
        "- analyse the association rules they can unravel"
      ]
    },
    {
      "cell_type": "code",
      "execution_count": null,
      "metadata": {
        "id": "P72D2c_pr5A-"
      },
      "outputs": [],
      "source": [
        "# Write code in cells like this\n",
        "# ...."
      ]
    },
    {
      "cell_type": "markdown",
      "metadata": {
        "id": "Y-ZH4uprr5A-"
      },
      "source": [
        "Write text in cells like this ...\n"
      ]
    },
    {
      "cell_type": "markdown",
      "metadata": {
        "id": "9-2TEoMxr5A-"
      },
      "source": [
        "### 1.5 Conclusions from Mining Frequent Patterns in All Stores (Global Patterns and Rules)"
      ]
    },
    {
      "cell_type": "markdown",
      "metadata": {
        "id": "WbJYCTCzr5A_"
      },
      "source": [
        "Write text in cells like this ...\n"
      ]
    },
    {
      "cell_type": "markdown",
      "metadata": {
        "id": "IaEj0lZZr5A_"
      },
      "source": [
        "## 2. Mining Frequent Itemsets and Association Rules: Looking for Differences between Stores\n",
        "\n",
        "The 24 stores, whose transactions were analysed in Task 1, are in fact from purchases carried out in **different types of stores**:\n",
        "* Deluxe Supermarkets: STORE_ID = 8, 12, 13, 17, 19, 21\n",
        "* Gourmet Supermarkets: STORE_ID = 4, 6\n",
        "* Mid-Size Grocerys: STORE_ID = 9, 18, 20, 23\n",
        "* Small Grocerys: STORE_ID = 2, 5, 14, 22\n",
        "* Supermarkets: STORE_ID = 1, 3, 7, 10, 11, 15, 16\n",
        "\n",
        "In this context, in this second task you should compute frequent itemsets and association rules for specific groups of stores (specific/local patterns), and then compare the store specific results with those obtained when all transactions were analysed independently of the type of store (global patterns).\n",
        "\n",
        "**The goal is to find similarities and differences in buying patterns according to the types of store. Do popular products change? Are there buying patterns specific to the type of store?**"
      ]
    },
    {
      "cell_type": "markdown",
      "metadata": {
        "id": "HdkiC104r5A_"
      },
      "source": [
        "### 2.1. Analyse Deluxe Supermarkets and Gourmet Supermarkets\n",
        "\n",
        "Here you should analyse **both** the transactions from **Deluxe Supermarkets (STORE_ID = 8, 12, 13, 17, 19, 21)** and **Gourmet Supermarkets (STORE_ID = 4, 6)**."
      ]
    },
    {
      "cell_type": "markdown",
      "metadata": {
        "id": "mNRR8hC-r5A_"
      },
      "source": [
        "#### 2.1.1. Load/Preprocess the Dataset\n",
        "\n",
        "**You might need to change a bit the preprocessing, although most of it should be reused.**"
      ]
    },
    {
      "cell_type": "code",
      "execution_count": null,
      "metadata": {
        "id": "cfy-shJEr5A_"
      },
      "outputs": [],
      "source": [
        "# Write code in cells like this\n",
        "# ...."
      ]
    },
    {
      "cell_type": "markdown",
      "metadata": {
        "id": "QNpR8K3or5A_"
      },
      "source": [
        "Write text in cells like this ...\n"
      ]
    },
    {
      "cell_type": "markdown",
      "metadata": {
        "id": "vwrNbgBMr5BA"
      },
      "source": [
        "#### 2.1.2. Compute Frequent Itemsets"
      ]
    },
    {
      "cell_type": "markdown",
      "metadata": {
        "id": "GdtGFsADr5BA"
      },
      "source": [
        "**This should be trivial now.**"
      ]
    },
    {
      "cell_type": "code",
      "execution_count": null,
      "metadata": {
        "id": "lnqxV14jr5BA"
      },
      "outputs": [],
      "source": [
        "# Write code in cells like this\n",
        "# ...."
      ]
    },
    {
      "cell_type": "markdown",
      "metadata": {
        "id": "l34dxIotr5BA"
      },
      "source": [
        "Write text in cells like this ...\n"
      ]
    },
    {
      "cell_type": "markdown",
      "metadata": {
        "id": "AjpEbOv0r5BA"
      },
      "source": [
        "#### 2.1.3. Generate Association Rules from Frequent Itemsets\n",
        "\n",
        "**This should be trivial now.**"
      ]
    },
    {
      "cell_type": "code",
      "execution_count": null,
      "metadata": {
        "id": "gpQHuo7qr5BB"
      },
      "outputs": [],
      "source": [
        "# Write code in cells like this\n",
        "# ...."
      ]
    },
    {
      "cell_type": "markdown",
      "metadata": {
        "id": "Eb8F6ZRSr5BB"
      },
      "source": [
        "Write text in cells like this"
      ]
    },
    {
      "cell_type": "markdown",
      "metadata": {
        "id": "yvb5bkmJr5BB"
      },
      "source": [
        "#### 2.1.4.  Take a look at Maximal Patterns"
      ]
    },
    {
      "cell_type": "code",
      "execution_count": null,
      "metadata": {
        "id": "GWumcs2Br5BB"
      },
      "outputs": [],
      "source": [
        "# Write code in cells like this\n",
        "# ...."
      ]
    },
    {
      "cell_type": "markdown",
      "metadata": {
        "id": "-mE578Lcr5BC"
      },
      "source": [
        "Write text in cells like this"
      ]
    },
    {
      "cell_type": "markdown",
      "metadata": {
        "id": "V9_Jhdfcr5BC"
      },
      "source": [
        "#### 2.1.5.  Deluxe/Gourmet Supermarkets versus All Stores (Global versus Deluxe/Gourmet Supermarkets Specific Patterns and Rules)\n",
        "\n",
        "Discuss the similarities and diferences between the results obtained in task 1. (frequent itemsets and association rules found in transactions from all stores) and those obtained above (frequent itemsets and association rules found in transactions only from Deluxe/Gourmet Supermarkets).\n"
      ]
    },
    {
      "cell_type": "code",
      "execution_count": null,
      "metadata": {
        "id": "c788s0A1r5BC"
      },
      "outputs": [],
      "source": [
        "# Write code in cells like this\n",
        "# ...."
      ]
    },
    {
      "cell_type": "markdown",
      "metadata": {
        "id": "hph1l5Ter5BC"
      },
      "source": [
        "Write text in cells like this"
      ]
    },
    {
      "cell_type": "markdown",
      "metadata": {
        "id": "DPvJOHp4r5BC"
      },
      "source": [
        "### 2.2. Analyse Small Groceries\n",
        "\n",
        "Here you should analyse **Small Groceries (STORE_ID = 2, 5, 14, 22)**."
      ]
    },
    {
      "cell_type": "markdown",
      "metadata": {
        "id": "7RHSmKwar5BC"
      },
      "source": [
        "#### 2.2.1.  Load/Preprocess the Dataset\n",
        "\n",
        "**This should be trivial now.**"
      ]
    },
    {
      "cell_type": "code",
      "execution_count": null,
      "metadata": {
        "id": "kdm_CsvIr5BC"
      },
      "outputs": [],
      "source": [
        "# Write code in cells like this\n",
        "# ...."
      ]
    },
    {
      "cell_type": "markdown",
      "metadata": {
        "id": "4fhD7NnTr5BD"
      },
      "source": [
        "Write text in cells like this\n"
      ]
    },
    {
      "cell_type": "markdown",
      "metadata": {
        "id": "n9JULgdrr5BD"
      },
      "source": [
        "#### 2.2.2. Compute Frequent Itemsets"
      ]
    },
    {
      "cell_type": "markdown",
      "metadata": {
        "id": "LqawNe3wr5BD"
      },
      "source": [
        "Write text in cells like this\n"
      ]
    },
    {
      "cell_type": "code",
      "execution_count": null,
      "metadata": {
        "id": "WUISWb4Pr5BD"
      },
      "outputs": [],
      "source": [
        "# Write code in cells like this\n",
        "# ...."
      ]
    },
    {
      "cell_type": "markdown",
      "metadata": {
        "id": "b0bhDIklr5BD"
      },
      "source": [
        "#### 2.2.3. Generate Association Rules from Frequent Itemsets"
      ]
    },
    {
      "cell_type": "code",
      "execution_count": null,
      "metadata": {
        "id": "25_8rBskr5BD"
      },
      "outputs": [],
      "source": [
        "# Write code in cells like this\n",
        "# ...."
      ]
    },
    {
      "cell_type": "markdown",
      "metadata": {
        "id": "A4LXivZMr5BD"
      },
      "source": [
        "Write text in cells like this\n"
      ]
    },
    {
      "cell_type": "markdown",
      "metadata": {
        "id": "4OB1W7Ksr5BE"
      },
      "source": [
        "#### 2.2.4. Take a Look at Maximal Patterns"
      ]
    },
    {
      "cell_type": "code",
      "execution_count": null,
      "metadata": {
        "id": "-rTtf-Egr5BE"
      },
      "outputs": [],
      "source": [
        "# Write code in cells like this\n",
        "# ...."
      ]
    },
    {
      "cell_type": "markdown",
      "metadata": {
        "scrolled": true,
        "id": "DfNy5-oer5BE"
      },
      "source": [
        "Write text in cells like this\n"
      ]
    },
    {
      "cell_type": "markdown",
      "metadata": {
        "id": "thVHBhESr5BE"
      },
      "source": [
        "#### 2.2.5. Small Groceries versus All Stores (Global versus Small Groceries Specific Patterns and Rules)\n",
        "\n",
        "Discuss the similarities and diferences between the results obtained in task 1. (frequent itemsets and association rules found in transactions from all stores) and those obtained above (frequent itemsets and association rules found in transactions only Small Groceries)."
      ]
    },
    {
      "cell_type": "markdown",
      "metadata": {
        "id": "1tA09XCwr5BE"
      },
      "source": [
        "Write text in cells like this\n"
      ]
    },
    {
      "cell_type": "markdown",
      "metadata": {
        "id": "rKmXq1t2r5BE"
      },
      "source": [
        "### 2.3.  Deluxe/Gourmet Supermarkets versus Small Groceries\n",
        "\n",
        "Discuss the similarities and diferences between the results obtained in task 2.1. (frequent itemsets and association rules found in transactions only from Deluxe/Gourmet Supermarkets) and those obtained in task 2.2. (frequent itemsets and association rules found in transactions only Small Groceries)."
      ]
    },
    {
      "cell_type": "markdown",
      "metadata": {
        "id": "hk2v2lZHr5BE"
      },
      "source": [
        "Write text in cells like this"
      ]
    }
  ],
  "metadata": {
    "kernelspec": {
      "display_name": "Python 3 (ipykernel)",
      "language": "python",
      "name": "python3"
    },
    "language_info": {
      "codemirror_mode": {
        "name": "ipython",
        "version": 3
      },
      "file_extension": ".py",
      "mimetype": "text/x-python",
      "name": "python",
      "nbconvert_exporter": "python",
      "pygments_lexer": "ipython3",
      "version": "3.12.4"
    },
    "colab": {
      "provenance": []
    }
  },
  "nbformat": 4,
  "nbformat_minor": 0
}